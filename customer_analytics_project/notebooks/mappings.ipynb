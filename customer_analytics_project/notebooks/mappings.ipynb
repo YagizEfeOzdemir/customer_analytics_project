{
 "cells": [
  {
   "metadata": {},
   "cell_type": "code",
   "outputs": [],
   "execution_count": null,
   "source": [
    "\"\"\"Mappings for German Credit Dataset\n",
    "This notebook contains dictionaries for decoding categorical attributes\n",
    "from the German Credit dataset (Statlog).\n",
    "The dataset uses coded values (e.g., A11, A34, A410), which are mapped\n",
    "here to their human-readable descriptions for analysis and visualization purposes.\"\"\""
   ],
   "id": "ae48e321bcf6c5a6"
  },
  {
   "metadata": {},
   "cell_type": "code",
   "outputs": [],
   "execution_count": null,
   "source": [
    "Status_Mapping = {\n",
    "    'A11' : '< 0 DM',\n",
    "    'A12' : '0 <= ... <  200 DM',\n",
    "    'A13' : '>= 200 DM',\n",
    "    'A14' : 'no checking account'\n",
    "}"
   ],
   "id": "9c90f29e38db8fa"
  },
  {
   "metadata": {},
   "cell_type": "code",
   "outputs": [],
   "execution_count": null,
   "source": [
    "CreditHistory_Mapping = {\n",
    "    'A30' : 'no credits taken/all credits paid back duly',\n",
    "    'A31' : 'all credits at this bank paid back duly',\n",
    "    'A32' : 'existing credits paid back duly till now',\n",
    "    'A33' : 'delay in paying off in the past',\n",
    "    'A34' : 'critical account/other credits existing (not at this bank)'\n",
    "}"
   ],
   "id": "94ab1254eaf2ca1"
  },
  {
   "metadata": {},
   "cell_type": "code",
   "outputs": [],
   "execution_count": null,
   "source": [
    "Purpose_Mapping = {\n",
    "    'A40' : 'car (new)',\n",
    "    'A41' : 'car (used)',\n",
    "    'A42' : 'furniture/equipment',\n",
    "    'A43' : 'radio/television',\n",
    "    'A44' : 'domestic appliances',\n",
    "    'A45' : 'repairs',\n",
    "    'A46' : 'education',\n",
    "    'A47' : 'vacation - does not exist?',\n",
    "    'A48' : 'retraining',\n",
    "    'A49' : 'business',\n",
    "    'A410' : 'others'\n",
    "}"
   ],
   "id": "655b2595877dd845"
  },
  {
   "metadata": {},
   "cell_type": "code",
   "outputs": [],
   "execution_count": null,
   "source": [
    "Savings_Mapping = {\n",
    "    'A61' : '<  100 DM',\n",
    "    'A62' : '100 <= ... <  500 DM',\n",
    "    'A63' : '500 <= ... < 1000 DM',\n",
    "    'A64' : '>= 1000 DM',\n",
    "    'A65' : 'unknown/ no savings account'\n",
    "}"
   ],
   "id": "c3b5895433a5332f"
  },
  {
   "metadata": {},
   "cell_type": "code",
   "outputs": [],
   "execution_count": null,
   "source": [
    "Employment_Mapping = {\n",
    "    'A71' : 'unemployed',\n",
    "    'A72' : '< 1 year',\n",
    "    'A73' : '1 <= ... < 4 years',\n",
    "    'A74' : '4 <= ... < 7 years',\n",
    "    'A75' : '>= 7 years'\n",
    "}"
   ],
   "id": "2d44d3f14087ff1"
  },
  {
   "metadata": {},
   "cell_type": "code",
   "outputs": [],
   "execution_count": null,
   "source": [
    "PersonalStatusSex_Mapping = {\n",
    "    'A91' : 'male   : divorced/separated',\n",
    "    'A92' : 'female : divorced/separated/married',\n",
    "    'A93' : 'male   : single',\n",
    "    'A94' : 'male   : married/widowed',\n",
    "    'A95' : 'female : single'\n",
    "}"
   ],
   "id": "e0bee7b248e839b"
  },
  {
   "metadata": {},
   "cell_type": "code",
   "outputs": [],
   "execution_count": null,
   "source": [
    "OtherDebtors_Mapping = {\n",
    "    'A101' : 'none',\n",
    "    'A102' : 'co-applicant',\n",
    "    'A103' : 'guarantor'\n",
    "}"
   ],
   "id": "22c53277e6d2eb87"
  },
  {
   "metadata": {},
   "cell_type": "code",
   "outputs": [],
   "execution_count": null,
   "source": [
    "Property_Mapping = {\n",
    "    'A121' : 'real estate',\n",
    "    'A122' : 'building society savings agreement/life insurance',\n",
    "    'A123' : 'car or other',\n",
    "    'A124' : 'unknown / no property'\n",
    "}"
   ],
   "id": "768bb5bae1dec26e"
  },
  {
   "metadata": {},
   "cell_type": "code",
   "outputs": [],
   "execution_count": null,
   "source": [
    "OtherInstallmentPlans_Mapping = {\n",
    "    'A141' : 'bank',\n",
    "    'A142' : 'stores',\n",
    "    'A143' : 'none'\n",
    "}"
   ],
   "id": "85911060f8fcb241"
  },
  {
   "metadata": {},
   "cell_type": "code",
   "outputs": [],
   "execution_count": null,
   "source": [
    "Housing_Mapping = {\n",
    "    'A151' : 'rent',\n",
    "    'A152' : 'own',\n",
    "    'A153' : 'for free'\n",
    "}"
   ],
   "id": "83aee58eaef2ad8"
  },
  {
   "metadata": {},
   "cell_type": "code",
   "outputs": [],
   "execution_count": null,
   "source": [
    "Job_Mapping = {\n",
    "    'A171' : 'unemployed/ unskilled  - non-resident',\n",
    "    'A172' : 'unskilled - resident',\n",
    "    'A173' : 'skilled employee / official',\n",
    "    'A174' : 'management/ self-employed/highly qualified employee/ officer'\n",
    "}"
   ],
   "id": "140b45dbd4470396"
  },
  {
   "metadata": {},
   "cell_type": "code",
   "outputs": [],
   "execution_count": null,
   "source": [
    "Telephone_Mapping = {\n",
    "    'A191' : 'none',\n",
    "    'A192' : 'yes, registered under the customers name'\n",
    "}"
   ],
   "id": "16c24a2c70d6b14d"
  },
  {
   "metadata": {},
   "cell_type": "code",
   "outputs": [],
   "execution_count": null,
   "source": [
    "ForeignWorker_Mapping = {\n",
    "    'A201' : 'yes',\n",
    "    'A202' : 'no'\n",
    "}"
   ],
   "id": "85fccca0af74d053"
  }
 ],
 "metadata": {
  "kernelspec": {
   "display_name": "Python 3",
   "language": "python",
   "name": "python3"
  },
  "language_info": {
   "codemirror_mode": {
    "name": "ipython",
    "version": 2
   },
   "file_extension": ".py",
   "mimetype": "text/x-python",
   "name": "python",
   "nbconvert_exporter": "python",
   "pygments_lexer": "ipython2",
   "version": "2.7.6"
  }
 },
 "nbformat": 4,
 "nbformat_minor": 5
}
