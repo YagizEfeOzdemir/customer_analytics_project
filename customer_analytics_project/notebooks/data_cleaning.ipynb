{
 "cells": [
  {
   "metadata": {
    "ExecuteTime": {
     "end_time": "2025-07-25T13:46:40.413676Z",
     "start_time": "2025-07-25T13:46:40.403940Z"
    }
   },
   "cell_type": "code",
   "source": [
    "\"\"\" German Credit Dataset Cleaning\n",
    "This notebook reads the raw CSV file, applies predefined mappings to categorical columns, and outputs a cleaned version of the dataset.\"\"\""
   ],
   "id": "b15bf9e0dbe69041",
   "outputs": [
    {
     "data": {
      "text/plain": [
       "' German Credit Dataset Cleaning\\nThis notebook reads the raw CSV file, applies predefined mappings to categorical columns, and outputs a cleaned version of the dataset.'"
      ]
     },
     "execution_count": 1,
     "metadata": {},
     "output_type": "execute_result"
    }
   ],
   "execution_count": 1
  },
  {
   "metadata": {},
   "cell_type": "code",
   "source": [
    "import pandas as pd\n",
    "import mappings\n",
    "\n",
    "df = pd.read_csv(\"../data/german.csv\")\n",
    "df.info()\n"
   ],
   "id": "88e165ae1909687",
   "outputs": [],
   "execution_count": null
  },
  {
   "metadata": {},
   "cell_type": "code",
   "source": [
    "for col in df.columns:\n",
    "    if df[col].dtype == \"object\":\n",
    "        df[col] = df[col].astype(\"string\")\n",
    "df.info()"
   ],
   "id": "91a8017cb861caa8",
   "outputs": [],
   "execution_count": null
  },
  {
   "metadata": {},
   "cell_type": "code",
   "outputs": [],
   "execution_count": null,
   "source": [
    "def map_categorical_columns(df):\n",
    "    df['Status']=df['Status'].map(mappings.Status_Mapping)\n",
    "    df['CreditHistory']=df['CreditHistory'].map(mappings.CreditHistory_Mapping)\n",
    "    df['Purpose']=df['Purpose'].map(mappings.Purpose_Mapping)\n",
    "    df['Savings']=df['Savings'].map(mappings.Savings_Mapping)\n",
    "    df['Employment']=df['Employment'].map(mappings.Employment_Mapping)\n",
    "    df['PersonalStatusSex']=df['PersonalStatusSex'].map(mappings.PersonalStatusSex_Mapping)\n",
    "    df['OtherDebtors']=df['OtherDebtors'].map(mappings.OtherDebtors_Mapping)\n",
    "    df['Property']=df['Property'].map(mappings.Property_Mapping)\n",
    "    df['OtherInstallmentPlans']=df['OtherInstallmentPlans'].map(mappings.OtherInstallmentPlans_Mapping)\n",
    "    df['Housing']=df['Housing'].map(mappings.Housing_Mapping)\n",
    "    df['Job']=df['Job'].map(mappings.Job_Mapping)\n",
    "    df['Telephone']=df['Telephone'].map(mappings.Telephone_Mapping)\n",
    "    df['ForeignWorker']=df['ForeignWorker'].map(mappings.ForeignWorker_Mapping)\n",
    "    return df"
   ],
   "id": "9d3a39c7af9e2754"
  },
  {
   "metadata": {},
   "cell_type": "code",
   "outputs": [],
   "execution_count": null,
   "source": [
    "cleaned_df = map_categorical_columns(df)\n",
    "cleaned_df.to_csv(\"../data/german_cleaned.csv\", index=False)"
   ],
   "id": "e5ef557f32366687"
  },
  {
   "metadata": {},
   "cell_type": "code",
   "outputs": [],
   "execution_count": null,
   "source": [
    "\"\"\"No NaN check after or before mapping because the dataset contains no missing or unexpected categorical values\n",
    "as we see at df.info() function.\n",
    "All possible category values are covered by the mapping dictionaries.\"\"\""
   ],
   "id": "9c7bee6d56b51f27"
  }
 ],
 "metadata": {
  "kernelspec": {
   "display_name": "Python 3",
   "language": "python",
   "name": "python3"
  },
  "language_info": {
   "codemirror_mode": {
    "name": "ipython",
    "version": 2
   },
   "file_extension": ".py",
   "mimetype": "text/x-python",
   "name": "python",
   "nbconvert_exporter": "python",
   "pygments_lexer": "ipython2",
   "version": "2.7.6"
  }
 },
 "nbformat": 4,
 "nbformat_minor": 5
}
