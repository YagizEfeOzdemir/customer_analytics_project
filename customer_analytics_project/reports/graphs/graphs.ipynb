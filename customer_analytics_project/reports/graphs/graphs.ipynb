{
 "cells": [
  {
   "metadata": {
    "ExecuteTime": {
     "end_time": "2025-07-29T10:40:46.300016Z",
     "start_time": "2025-07-29T10:40:46.277205Z"
    }
   },
   "cell_type": "code",
   "source": [
    "\"\"\" This notebook contains visualizations for EDA.\n",
    "Each cell takes a DataFrame (df) as input and generates plots accordingly.\n",
    "Plots are saved in the reports/images/ directory. \"\"\"\n",
    "\n",
    "import seaborn as sns\n",
    "from matplotlib import pyplot as plt\n",
    "import pandas as pd\n",
    "\n",
    "sns.set(style=\"whitegrid\")\n",
    "df = pd.read_csv(\"../../data/german_cleaned.csv\")\n"
   ],
   "id": "c99101c4f97838a",
   "outputs": [],
   "execution_count": 6
  },
  {
   "metadata": {},
   "cell_type": "code",
   "source": [
    "plt.figure(figsize=(6,6))\n",
    "df['Target'].value_counts().plot.pie(autopct='%1.1f%%', colors=['lightblue', 'salmon'], startangle=90)\n",
    "plt.title('Target Variable Distribution')\n",
    "plt.ylabel('')\n",
    "plt.tight_layout()\n",
    "plt.show()"
   ],
   "id": "716a1bd409dc5687",
   "outputs": [],
   "execution_count": null
  },
  {
   "metadata": {},
   "cell_type": "code",
   "source": [
    "plt.figure(figsize=(12,6))\n",
    "sns.countplot(x='Purpose', hue='Target', data=df)\n",
    "plt.title('Loan Purpose vs. Target')\n",
    "plt.xticks(rotation=30)\n",
    "plt.tight_layout()\n",
    "plt.show()"
   ],
   "id": "4f3b339267eae013",
   "outputs": [],
   "execution_count": null
  },
  {
   "metadata": {},
   "cell_type": "code",
   "source": [
    "plt.figure(figsize=(8,6))\n",
    "sns.boxplot(x='Target', y='CreditAmount', data=df)\n",
    "plt.title('Credit Amount vs. Target')\n",
    "plt.tight_layout()\n",
    "plt.show()"
   ],
   "id": "d40b7146421f8404",
   "outputs": [],
   "execution_count": null
  },
  {
   "metadata": {},
   "cell_type": "code",
   "source": [
    "plt.figure(figsize=(10,8))\n",
    "corr = df.corr(numeric_only=True)\n",
    "sns.heatmap(corr, annot=True, cmap='coolwarm', fmt='.2f')\n",
    "plt.title('Correlation Matrix')\n",
    "plt.xticks(rotation=30)\n",
    "plt.tight_layout()\n",
    "plt.show()"
   ],
   "id": "b1d8e1b4163de890",
   "outputs": [],
   "execution_count": null
  },
  {
   "metadata": {},
   "cell_type": "code",
   "source": [
    "plt.figure(figsize=(8,6))\n",
    "sns.histplot(df['Duration'], kde=True, bins=30, color='skyblue')\n",
    "plt.title('Duration Distribution')\n",
    "plt.tight_layout()\n",
    "plt.show()"
   ],
   "id": "acb3b2ab3f420cf0",
   "outputs": [],
   "execution_count": null
  },
  {
   "metadata": {},
   "cell_type": "code",
   "source": [
    "plt.figure(figsize=(8,6))\n",
    "sns.histplot(df['CreditAmount'], kde=True, bins=30, color='green')\n",
    "plt.title('Credit Amount Distribution')\n",
    "plt.tight_layout()\n",
    "plt.show()"
   ],
   "id": "9d1db5f763b41514",
   "outputs": [],
   "execution_count": null
  },
  {
   "metadata": {},
   "cell_type": "code",
   "source": [
    "sns.pairplot(df[['Age', 'CreditAmount', 'Duration', 'Target']], hue='Target')\n",
    "plt.show()"
   ],
   "id": "c40672de51218961",
   "outputs": [],
   "execution_count": null
  },
  {
   "metadata": {},
   "cell_type": "code",
   "source": [
    "plt.figure(figsize=(8,6))\n",
    "sns.violinplot(x='Target', y='Duration', data=df)\n",
    "plt.title('Duration Distribution by Target')\n",
    "plt.tight_layout()\n",
    "plt.show()"
   ],
   "id": "40e5ef7ac1a2f551",
   "outputs": [],
   "execution_count": null
  },
  {
   "metadata": {},
   "cell_type": "code",
   "source": [
    "plt.figure(figsize=(10,6))\n",
    "sns.countplot(x='Employment', hue='Target', data=df)\n",
    "plt.title('Employment Duration vs. Target')\n",
    "plt.xticks(rotation=30)\n",
    "plt.tight_layout()\n",
    "plt.show()"
   ],
   "id": "a3191cf976d5086b",
   "outputs": [],
   "execution_count": null
  },
  {
   "metadata": {},
   "cell_type": "code",
   "source": [
    "plt.figure(figsize=(12,6))\n",
    "sns.countplot(x='Purpose', hue='Employment', data=df)\n",
    "plt.title('Loan Purpose vs. Employment Duration')\n",
    "plt.xticks(rotation=30)\n",
    "plt.tight_layout()\n",
    "plt.show()"
   ],
   "id": "673334ece7df5a91",
   "outputs": [],
   "execution_count": null
  },
  {
   "metadata": {},
   "cell_type": "code",
   "outputs": [],
   "execution_count": null,
   "source": [
    "plt.figure(figsize=(10,6))\n",
    "sns.boxplot(x='Savings', y='CreditAmount', data=df)\n",
    "plt.title('Savings Account vs. Credit Amount')\n",
    "plt.tight_layout()\n",
    "plt.show()"
   ],
   "id": "2a329538d17638dd"
  },
  {
   "metadata": {},
   "cell_type": "code",
   "source": [
    "plt.figure(figsize=(10,6))\n",
    "sns.countplot(x='PersonalStatusSex', hue='Target', data=df)\n",
    "plt.title('Personal Status vs. Target')\n",
    "plt.xticks(rotation=30)\n",
    "plt.tight_layout()\n",
    "plt.show()"
   ],
   "id": "31a4367d4e7dcb4d",
   "outputs": [],
   "execution_count": null
  },
  {
   "metadata": {},
   "cell_type": "code",
   "outputs": [],
   "execution_count": null,
   "source": "",
   "id": "29dae043c3f0f9ae"
  }
 ],
 "metadata": {
  "kernelspec": {
   "name": "python3",
   "language": "python",
   "display_name": "Python 3 (ipykernel)"
  }
 },
 "nbformat": 5,
 "nbformat_minor": 9
}
