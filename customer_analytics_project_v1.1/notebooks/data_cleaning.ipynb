{
 "cells": [
  {
   "metadata": {},
   "cell_type": "markdown",
   "source": [
    "**German Credit Dataset Cleaning\n",
    "This notebook reads the raw CSV file, applies predefined mappings to categorical columns, and outputs a cleaned version of the dataset**"
   ],
   "id": "1c98951c88d545a5"
  },
  {
   "metadata": {
    "ExecuteTime": {
     "end_time": "2025-08-13T11:11:13.077647Z",
     "start_time": "2025-08-13T11:11:13.067565Z"
    }
   },
   "cell_type": "code",
   "source": [
    "import pandas as pd\n",
    "import mappings\n",
    "import sqlite3\n",
    "\n",
    "conn = sqlite3.connect(\"../data/german_data.db\")\n",
    "df = pd.read_sql_query(\"SELECT * FROM german_data\",conn)"
   ],
   "id": "425ff83edbec4258",
   "outputs": [],
   "execution_count": 24
  },
  {
   "metadata": {
    "ExecuteTime": {
     "end_time": "2025-08-13T11:11:13.894664Z",
     "start_time": "2025-08-13T11:11:13.890665Z"
    }
   },
   "cell_type": "code",
   "source": [
    "def map_categorical_columns(df1):\n",
    "    df1['Status']=df1['Status'].map(mappings.Status_Mapping)\n",
    "    df1['CreditHistory']=df1['CreditHistory'].map(mappings.CreditHistory_Mapping)\n",
    "    df1['Purpose']=df1['Purpose'].map(mappings.Purpose_Mapping)\n",
    "    df1['Savings']=df1['Savings'].map(mappings.Savings_Mapping)\n",
    "    df1['Employment']=df1['Employment'].map(mappings.Employment_Mapping)\n",
    "    df1['PersonalStatusSex']=df1['PersonalStatusSex'].map(mappings.PersonalStatusSex_Mapping)\n",
    "    df1['OtherDebtors']=df1['OtherDebtors'].map(mappings.OtherDebtors_Mapping)\n",
    "    df1['Property']=df1['Property'].map(mappings.Property_Mapping)\n",
    "    df1['OtherInstallmentPlans']=df1['OtherInstallmentPlans'].map(mappings.OtherInstallmentPlans_Mapping)\n",
    "    df1['Housing']=df1['Housing'].map(mappings.Housing_Mapping)\n",
    "    df1['Job']=df1['Job'].map(mappings.Job_Mapping)\n",
    "    df1['Telephone']=df1['Telephone'].map(mappings.Telephone_Mapping)\n",
    "    df1['ForeignWorker']=df1['ForeignWorker'].map(mappings.ForeignWorker_Mapping)\n",
    "    return df1"
   ],
   "id": "369755d87d929841",
   "outputs": [],
   "execution_count": 25
  },
  {
   "metadata": {
    "ExecuteTime": {
     "end_time": "2025-08-13T11:11:15.028254Z",
     "start_time": "2025-08-13T11:11:15.021255Z"
    }
   },
   "cell_type": "code",
   "source": [
    "for col in df.columns:\n",
    "    if df[col].dtype == \"object\":\n",
    "        df[col] = df[col].astype(\"string\")"
   ],
   "id": "1b75b917e49a3231",
   "outputs": [],
   "execution_count": 26
  },
  {
   "metadata": {
    "ExecuteTime": {
     "end_time": "2025-08-13T11:11:15.924305Z",
     "start_time": "2025-08-13T11:11:15.914957Z"
    }
   },
   "cell_type": "code",
   "source": "cleaned_df = map_categorical_columns(df)",
   "id": "c41d838b34ade742",
   "outputs": [],
   "execution_count": 27
  },
  {
   "metadata": {
    "ExecuteTime": {
     "end_time": "2025-08-13T11:11:17.143873Z",
     "start_time": "2025-08-13T11:11:17.126935Z"
    }
   },
   "cell_type": "code",
   "source": [
    "cleaned_df.to_sql(\"german_cleaned\",conn,if_exists=\"replace\",index=False)\n",
    "conn.close()"
   ],
   "id": "9d6c604f355a62ba",
   "outputs": [],
   "execution_count": 28
  },
  {
   "metadata": {},
   "cell_type": "markdown",
   "source": [
    "No NaN check after or before mapping because the dataset contains no missing or unexpected categorical values\n",
    "as we see at df.info() function.\n",
    "All possible category values are covered by the mapping dictionaries"
   ],
   "id": "73e7d90232bfc47f"
  }
 ],
 "metadata": {
  "kernelspec": {
   "name": "python3",
   "language": "python",
   "display_name": "Python 3 (ipykernel)"
  }
 },
 "nbformat": 5,
 "nbformat_minor": 9
}
