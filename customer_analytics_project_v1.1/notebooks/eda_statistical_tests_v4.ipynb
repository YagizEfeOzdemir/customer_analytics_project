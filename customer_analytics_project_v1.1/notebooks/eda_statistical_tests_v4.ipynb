{
  "cells": [
    {
      "metadata": {
        "ExecuteTime": {
          "end_time": "2025-08-16T11:58:18.216207Z",
          "start_time": "2025-08-16T11:58:17.295780Z"
        }
      },
      "cell_type": "code",
      "source": [
        "import sqlite3\n",
        "import pandas as pd\n",
        "from visuals import plots\n",
        "\n",
        "conn  = sqlite3.connect(\"../data/german_data.db\")\n",
        "df = pd.read_sql_query(\"SELECT * FROM german_cleaned\",conn)\n"
      ],
      "id": "71292f4a0c5fa1b0",
      "outputs": [],
      "execution_count": 1
    },
    {
      "metadata": {},
      "cell_type": "markdown",
      "source": "** Example – 01_CreditAmount_Duration_Pearson**",
      "id": "7e764d6de976852a"
    },
    {
      "metadata": {},
      "cell_type": "markdown",
      "source": [
        "## 1.1\n",
        "**Test:** Pearson Correlation\n",
        "**Hypotheses:**\n",
        "- H₀: There is no linear relationship between the debt amount and maturity.\n",
        "- H₁: There is a linear relationship between the debt amount and maturity.\n"
      ],
      "id": "3dd44a1acf2d5e10"
    },
    {
      "metadata": {},
      "cell_type": "code",
      "source": [
        "#1.2\n",
        "plots.creditamount_duration_pearson(df)"
      ],
      "id": "2b89af2cba850587",
      "outputs": [],
      "execution_count": null
    },
    {
      "metadata": {},
      "cell_type": "markdown",
      "source": [
        "#1.3\n",
        "**Results:**\n",
        "- Pearson r = 0.62\n",
        "- p-value = 0.0001\n",
        "- There is a positive, moderately significant relationship.\n",
        "\n",
        "**Business Implication:**\n",
        "- Customers generally prefer longer maturities when taking out larger loans.\n"
      ],
      "id": "b59439994e9aebc2"
    },
    {
      "metadata": {},
      "cell_type": "markdown",
      "source": "** Example – 02_Age_Savings_Spearman**",
      "id": "55eb0a2e8f4f2f8"
    },
    {
      "metadata": {},
      "cell_type": "markdown",
      "source": [
        "## 2.1\n",
        "**Test:** Spearman Correlation\n",
        "**Hypotheses:**\n",
        "- H₀: There is no linear relationship between age and savings.\n",
        "- H₁: There is a linear relationship between age and savings."
      ],
      "id": "3811183bcdca51be"
    },
    {
      "metadata": {},
      "cell_type": "code",
      "source": [
        "#2.2\n",
        "plots.age_savings_spearman(df)"
      ],
      "id": "7d85fd57ebff17c",
      "outputs": [],
      "execution_count": null
    },
    {
      "metadata": {},
      "cell_type": "markdown",
      "source": [
        "#2.3\n",
        "**Results:**\n",
        "- Pearson r = 0.10\n",
        "- p-value = 0.00214\n",
        "- There is a small but positive, moderately significant relationship.\n",
        "\n",
        "**Business Implication:**\n",
        "-  As age increases, there is a slight tendency for individuals to belong to higher savings categories."
      ],
      "id": "c0a241433546e226"
    },
    {
      "metadata": {},
      "cell_type": "markdown",
      "source": "** Example – 03_InstallmentRate_CreditAmount_Spearman**",
      "id": "ca948df21af602fe"
    },
    {
      "metadata": {},
      "cell_type": "markdown",
      "source": [
        "## 3.1\n",
        "**Test:** Spearman Correlation\n",
        "**Hypotheses:**\n",
        "- H₀: There is no linear relationship between the installment rate and the credit amount.\n",
        "- H₁: There is a linear relationship between the installment rate and the credit amount."
      ],
      "id": "62634b07e3a25dd2"
    },
    {
      "metadata": {},
      "cell_type": "code",
      "source": [
        " #3.2\n",
        "plots.installmentrate_creditamount_spearman(df)"
      ],
      "id": "82020986de6192fd",
      "outputs": [],
      "execution_count": null
    },
    {
      "metadata": {},
      "cell_type": "markdown",
      "source": [
        "#3.3\n",
        "**Results:**\n",
        "- Spearman r = -0.31\n",
        "- p-value = 0.00000\n",
        "- Moderate negative and highly significant relationship.\n",
        "\n",
        "**Business Implication:**\n",
        "- Higher installment rates tend to be linked with smaller credit amounts."
      ],
      "id": "75b366e52dfc4a8"
    },
    {
      "metadata": {},
      "cell_type": "markdown",
      "source": "** Example – 04_Purpose_CreditHistory_Chi2**",
      "id": "2f25b7ec67d77852"
    },
    {
      "metadata": {},
      "cell_type": "markdown",
      "source": [
        "## 4.1\n",
        "**Test:** Chi-Square Test\n",
        "**Hypotheses:**\n",
        "- H₀: Purpose and CreditHistory are independent.\n",
        "- H₁: Purpose and CreditHistory are not independent."
      ],
      "id": "c927af5340dcb264"
    },
    {
      "metadata": {},
      "cell_type": "code",
      "source": [
        "#4.2\n",
        "plots.purpose_credit_history_chi2(df)"
      ],
      "id": "da62f8ab0fbad50b",
      "outputs": [],
      "execution_count": null
    },
    {
      "metadata": {},
      "cell_type": "markdown",
      "source": [
        "# 4.3\n",
        "**Results:**\n",
        "- Chi² = 111.70\n",
        "- p-value = 0.00000\n",
        "- dof = 36\n",
        "- Strong evidence against H₀ → Purpose and CreditHistory are **not independent**.\n",
        "\n",
        "**Business Implication:**\n",
        "- Customers’ credit purpose is strongly associated with their credit history.\n",
        "  For example, certain purposes (like car loans or business loans) tend to occur more often among customers with specific credit history patterns.\n"
      ],
      "id": "27365dd6a34acb31"
    },
    {
      "metadata": {},
      "cell_type": "markdown",
      "source": "** Example – 05_Target_Duration_Ztest**",
      "id": "f966bed8df098b8a"
    },
    {
      "metadata": {},
      "cell_type": "markdown",
      "source": [
        "## 5.1\n",
        "**Test:** Z Test\n",
        "**Hypotheses:**\n",
        "- H₀: There is no statistically significant difference in the average loan duration between good and bad customers.\n",
        "- H₀: There is a statistically significant difference in the average loan duration between good and bad customers."
      ],
      "id": "fb239a45bf9500f2"
    },
    {
      "metadata": {},
      "cell_type": "code",
      "source": [
        "#5.2\n",
        "plots.target_duration_ztest(df)"
      ],
      "id": "b5de5efd25d53814",
      "outputs": [],
      "execution_count": null
    },
    {
      "metadata": {},
      "cell_type": "markdown",
      "source": [
        "# 5.3\n",
        "**Results:**\n",
        "- Z = -6.9523\n",
        "- p-value = 0.00000\n",
        "- Strong evidence against H₀ → There is a statistically significant **difference** in the average loan duration between good and bad customers.\n",
        "\n",
        "\n",
        "**Business Implication:**\n",
        "- Loan duration is strongly associated with credit status.\n",
        "- Customers with bad credit tend to have longer loan durations on average, which may indicate higher repayment risk and require stricter lending policies."
      ],
      "id": "5cd84dc8704c9efe"
    },
    {
      "metadata": {},
      "cell_type": "markdown",
      "source": "** Example – 06_Target_CreditAmount_t_test**",
      "id": "75326ff4b6a062a2"
    },
    {
      "metadata": {},
      "cell_type": "markdown",
      "source": [
        "## 6.1\n",
        "**Test:** t Test\n",
        "**Hypotheses:**\n",
        "- H₀: There is no statistically significant difference in the average credit amount between good and bad customers.\n",
        "- H₀: There is a statistically significant difference in the average credit amount between good and bad customers."
      ],
      "id": "f76bee48b11bb2fb"
    },
    {
      "metadata": {},
      "cell_type": "code",
      "source": [
        "#6.2\n",
        "plots.target_credit_amount_ttest(df)"
      ],
      "id": "81042a666bfdc790",
      "outputs": [],
      "execution_count": null
    },
    {
      "metadata": {},
      "cell_type": "markdown",
      "source": [
        "**6.3**\n",
        "**Results:**\n",
        "- t-score = -4.9480\n",
        "- p-value = 0.00000\n",
        "- Strong evidence against H₀ → Average credit amount differs significantly between good  and bad customer groups.\n",
        "\n",
        "**Business Implication:**\n",
        "- Credit amount is associated with credit status.\n",
        "- Customers with bad credit may have higher/lower credit amounts, influencing loan risk assessment and credit limit decisions."
      ],
      "id": "9a2901159fd06d44"
    },
    {
      "metadata": {},
      "cell_type": "markdown",
      "source": "** Example – 07_CreditAmount_Outlier_test**",
      "id": "f9dc8af17465280e"
    },
    {
      "metadata": {},
      "cell_type": "markdown",
      "source": [
        "**7.1**\n",
        "- **Test: Outlier Detection (IQR Method)**\n",
        "- **Hypotheses:**\n",
        "- This step does not involve a statistical hypothesis test. Instead, it applies the Interquartile Range (IQR) method to identify unusually high or low credit amounts that may be considered outliers."
      ],
      "id": "7d5e16d8268fd4ad"
    },
    {
      "metadata": {},
      "cell_type": "code",
      "source": [
        "#7.2\n",
        "plots.credit_amount_outlier_test(df)"
      ],
      "id": "40467b492d376c4b",
      "outputs": [],
      "execution_count": null
    },
    {
      "metadata": {},
      "cell_type": "markdown",
      "source": [
        "**7.3**\n",
        "**Result:**\n",
        "- The first quartile (Q1) was 1365.5 and the third quartile (Q3) was 3972.25, giving an IQR of 2606.75.\n",
        "- The calculated lower bound was -2544.625 (no outliers detected below this value) and the upper bound was 7882.375.\n",
        "- A total of 72 credit amounts exceeded the upper bound and were classified as outliers. These represent customers with unusually high credit amounts compared to the majority of the dataset."
      ],
      "id": "490d1fbd477e9355"
    }
  ],
  "metadata": {
    "kernelspec": {
      "name": "python3",
      "language": "python",
      "display_name": "Python 3 (ipykernel)"
    }
  },
  "nbformat": 4,
  "nbformat_minor": 9
}